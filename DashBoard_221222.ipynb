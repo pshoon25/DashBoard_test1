{
 "cells": [
  {
   "cell_type": "code",
   "execution_count": 1,
   "id": "061ac0eb",
   "metadata": {},
   "outputs": [],
   "source": [
    "import pandas as pd\n",
    "import numpy as np"
   ]
  },
  {
   "cell_type": "code",
   "execution_count": 2,
   "id": "14d60b88",
   "metadata": {},
   "outputs": [
    {
     "name": "stderr",
     "output_type": "stream",
     "text": [
      "/var/folders/w1/0zs4d6813b52wg8998ygc9zh0000gn/T/ipykernel_11340/3044938609.py:1: DtypeWarning: Columns (3,19,22,23,27,31,32) have mixed types. Specify dtype option on import or set low_memory=False.\n",
      "  df = pd.read_csv('이지체인_기간별판매내역(-221107).csv')\n"
     ]
    }
   ],
   "source": [
    "df = pd.read_csv('이지체인_기간별판매내역(-221107).csv')"
   ]
  },
  {
   "cell_type": "code",
   "execution_count": 22,
   "id": "98b42d8c",
   "metadata": {},
   "outputs": [
    {
     "data": {
      "text/html": [
       "<div>\n",
       "<style scoped>\n",
       "    .dataframe tbody tr th:only-of-type {\n",
       "        vertical-align: middle;\n",
       "    }\n",
       "\n",
       "    .dataframe tbody tr th {\n",
       "        vertical-align: top;\n",
       "    }\n",
       "\n",
       "    .dataframe thead th {\n",
       "        text-align: right;\n",
       "    }\n",
       "</style>\n",
       "<table border=\"1\" class=\"dataframe\">\n",
       "  <thead>\n",
       "    <tr style=\"text-align: right;\">\n",
       "      <th></th>\n",
       "      <th>그룹</th>\n",
       "      <th>코드</th>\n",
       "      <th>매장</th>\n",
       "      <th>ON/OFF</th>\n",
       "      <th>구매일자</th>\n",
       "      <th>최초구매시간</th>\n",
       "      <th>카테고리</th>\n",
       "      <th>대표코드</th>\n",
       "      <th>상품코드</th>\n",
       "      <th>상품명</th>\n",
       "      <th>...</th>\n",
       "      <th>상태</th>\n",
       "      <th>취소일자</th>\n",
       "      <th>ID</th>\n",
       "      <th>메모</th>\n",
       "      <th>바코드</th>\n",
       "      <th>공급처상품명</th>\n",
       "      <th>컬러명</th>\n",
       "      <th>회원번호</th>\n",
       "      <th>적립금사용</th>\n",
       "      <th>총결제액</th>\n",
       "    </tr>\n",
       "  </thead>\n",
       "  <tbody>\n",
       "    <tr>\n",
       "      <th>0</th>\n",
       "      <td>본사</td>\n",
       "      <td>20.0</td>\n",
       "      <td>O!Oi POP UP</td>\n",
       "      <td>NaN</td>\n",
       "      <td>2022-04-28</td>\n",
       "      <td>18:28:47</td>\n",
       "      <td>20FW_OIOI</td>\n",
       "      <td>12633.0</td>\n",
       "      <td>S12634</td>\n",
       "      <td>RIBBON POINT TWEED JACKET [YELLOW]</td>\n",
       "      <td>...</td>\n",
       "      <td>NaN</td>\n",
       "      <td>NaN</td>\n",
       "      <td>2.204282e+11</td>\n",
       "      <td>NaN</td>\n",
       "      <td>OICFFWCJK02YE00F</td>\n",
       "      <td>OICFFWCJK02</td>\n",
       "      <td>YELLOW</td>\n",
       "      <td>NaN</td>\n",
       "      <td>0</td>\n",
       "      <td>274,200</td>\n",
       "    </tr>\n",
       "    <tr>\n",
       "      <th>1</th>\n",
       "      <td>본사</td>\n",
       "      <td>20.0</td>\n",
       "      <td>O!Oi POP UP</td>\n",
       "      <td>NaN</td>\n",
       "      <td>2022-04-28</td>\n",
       "      <td>19:37:47</td>\n",
       "      <td>21SS_OIOI</td>\n",
       "      <td>13637.0</td>\n",
       "      <td>S13638</td>\n",
       "      <td>OI HEART LOGO CARDIGAN [BLACK]</td>\n",
       "      <td>...</td>\n",
       "      <td>NaN</td>\n",
       "      <td>NaN</td>\n",
       "      <td>2.204282e+11</td>\n",
       "      <td>NaN</td>\n",
       "      <td>OICGSSCCD03BK00F</td>\n",
       "      <td>OICGSSCCD03</td>\n",
       "      <td>BLACK</td>\n",
       "      <td>NaN</td>\n",
       "      <td>0</td>\n",
       "      <td>140,050</td>\n",
       "    </tr>\n",
       "    <tr>\n",
       "      <th>2</th>\n",
       "      <td>본사</td>\n",
       "      <td>20.0</td>\n",
       "      <td>O!Oi POP UP</td>\n",
       "      <td>NaN</td>\n",
       "      <td>2022-04-28</td>\n",
       "      <td>18:37:15</td>\n",
       "      <td>21SS_OIOI</td>\n",
       "      <td>13671.0</td>\n",
       "      <td>S13672</td>\n",
       "      <td>LAYERED T-SHIRTS [GREEN]</td>\n",
       "      <td>...</td>\n",
       "      <td>NaN</td>\n",
       "      <td>NaN</td>\n",
       "      <td>2.204282e+11</td>\n",
       "      <td>NaN</td>\n",
       "      <td>OICGSSCTS02GR00F</td>\n",
       "      <td>OICGSSCTS02</td>\n",
       "      <td>GREEN</td>\n",
       "      <td>NaN</td>\n",
       "      <td>0</td>\n",
       "      <td>124,600</td>\n",
       "    </tr>\n",
       "    <tr>\n",
       "      <th>3</th>\n",
       "      <td>본사</td>\n",
       "      <td>20.0</td>\n",
       "      <td>O!Oi POP UP</td>\n",
       "      <td>NaN</td>\n",
       "      <td>2022-04-28</td>\n",
       "      <td>17:42:27</td>\n",
       "      <td>21SS_OIOI</td>\n",
       "      <td>13671.0</td>\n",
       "      <td>S13672</td>\n",
       "      <td>LAYERED T-SHIRTS [GREEN]</td>\n",
       "      <td>...</td>\n",
       "      <td>NaN</td>\n",
       "      <td>NaN</td>\n",
       "      <td>2.204282e+11</td>\n",
       "      <td>NaN</td>\n",
       "      <td>OICGSSCTS02GR00F</td>\n",
       "      <td>OICGSSCTS02</td>\n",
       "      <td>GREEN</td>\n",
       "      <td>NaN</td>\n",
       "      <td>0</td>\n",
       "      <td>144,150</td>\n",
       "    </tr>\n",
       "    <tr>\n",
       "      <th>4</th>\n",
       "      <td>본사</td>\n",
       "      <td>20.0</td>\n",
       "      <td>O!Oi POP UP</td>\n",
       "      <td>NaN</td>\n",
       "      <td>2022-04-28</td>\n",
       "      <td>17:45:31</td>\n",
       "      <td>21SS_OIOI</td>\n",
       "      <td>13677.0</td>\n",
       "      <td>S13678</td>\n",
       "      <td>BACK POINT CROP T-SHIRTS [MINT]</td>\n",
       "      <td>...</td>\n",
       "      <td>NaN</td>\n",
       "      <td>NaN</td>\n",
       "      <td>2.204282e+11</td>\n",
       "      <td>NaN</td>\n",
       "      <td>OICGSSCTS03MI00F</td>\n",
       "      <td>OICGSSCTS03</td>\n",
       "      <td>MINT</td>\n",
       "      <td>NaN</td>\n",
       "      <td>0</td>\n",
       "      <td>41,300</td>\n",
       "    </tr>\n",
       "  </tbody>\n",
       "</table>\n",
       "<p>5 rows × 34 columns</p>\n",
       "</div>"
      ],
      "text/plain": [
       "   그룹    코드           매장 ON/OFF        구매일자    최초구매시간       카테고리     대표코드  \\\n",
       "0  본사  20.0  O!Oi POP UP    NaN  2022-04-28  18:28:47  20FW_OIOI  12633.0   \n",
       "1  본사  20.0  O!Oi POP UP    NaN  2022-04-28  19:37:47  21SS_OIOI  13637.0   \n",
       "2  본사  20.0  O!Oi POP UP    NaN  2022-04-28  18:37:15  21SS_OIOI  13671.0   \n",
       "3  본사  20.0  O!Oi POP UP    NaN  2022-04-28  17:42:27  21SS_OIOI  13671.0   \n",
       "4  본사  20.0  O!Oi POP UP    NaN  2022-04-28  17:45:31  21SS_OIOI  13677.0   \n",
       "\n",
       "     상품코드                                 상품명  ...   상태 취소일자            ID  \\\n",
       "0  S12634  RIBBON POINT TWEED JACKET [YELLOW]  ...  NaN  NaN  2.204282e+11   \n",
       "1  S13638      OI HEART LOGO CARDIGAN [BLACK]  ...  NaN  NaN  2.204282e+11   \n",
       "2  S13672            LAYERED T-SHIRTS [GREEN]  ...  NaN  NaN  2.204282e+11   \n",
       "3  S13672            LAYERED T-SHIRTS [GREEN]  ...  NaN  NaN  2.204282e+11   \n",
       "4  S13678     BACK POINT CROP T-SHIRTS [MINT]  ...  NaN  NaN  2.204282e+11   \n",
       "\n",
       "    메모               바코드       공급처상품명     컬러명 회원번호 적립금사용      총결제액  \n",
       "0  NaN  OICFFWCJK02YE00F  OICFFWCJK02  YELLOW  NaN    0   274,200   \n",
       "1  NaN  OICGSSCCD03BK00F  OICGSSCCD03   BLACK  NaN    0   140,050   \n",
       "2  NaN  OICGSSCTS02GR00F  OICGSSCTS02   GREEN  NaN    0   124,600   \n",
       "3  NaN  OICGSSCTS02GR00F  OICGSSCTS02   GREEN  NaN    0   144,150   \n",
       "4  NaN  OICGSSCTS03MI00F  OICGSSCTS03    MINT  NaN    0    41,300   \n",
       "\n",
       "[5 rows x 34 columns]"
      ]
     },
     "execution_count": 22,
     "metadata": {},
     "output_type": "execute_result"
    }
   ],
   "source": [
    "df.head()"
   ]
  },
  {
   "cell_type": "code",
   "execution_count": 61,
   "id": "613ae84a",
   "metadata": {},
   "outputs": [
    {
     "data": {
      "text/plain": [
       "0          True\n",
       "1          True\n",
       "2          True\n",
       "3          True\n",
       "4          True\n",
       "          ...  \n",
       "125467     True\n",
       "125468     True\n",
       "125469     True\n",
       "125470    False\n",
       "125471     True\n",
       "Name: 취소일자, Length: 125472, dtype: bool"
      ]
     },
     "execution_count": 61,
     "metadata": {},
     "output_type": "execute_result"
    }
   ],
   "source": [
    "df['취소일자'].isnull()"
   ]
  },
  {
   "cell_type": "code",
   "execution_count": 65,
   "id": "5ec7002a",
   "metadata": {},
   "outputs": [],
   "source": [
    "a = []\n",
    "for i in df['취소일자'].isnull() :\n",
    "    if i == True :\n",
    "        a.append(df['취소일자'])\n",
    "    else :\n",
    "        a.append(df['구매일자'])\n"
   ]
  },
  {
   "cell_type": "code",
   "execution_count": 66,
   "id": "915a3285",
   "metadata": {},
   "outputs": [
    {
     "name": "stderr",
     "output_type": "stream",
     "text": [
      "IOPub data rate exceeded.\n",
      "The notebook server will temporarily stop sending output\n",
      "to the client in order to avoid crashing it.\n",
      "To change this limit, set the config variable\n",
      "`--NotebookApp.iopub_data_rate_limit`.\n",
      "\n",
      "Current values:\n",
      "NotebookApp.iopub_data_rate_limit=1000000.0 (bytes/sec)\n",
      "NotebookApp.rate_limit_window=3.0 (secs)\n",
      "\n"
     ]
    }
   ],
   "source": [
    "print(a)"
   ]
  }
 ],
 "metadata": {
  "kernelspec": {
   "display_name": "Python 3",
   "language": "python",
   "name": "python3"
  },
  "language_info": {
   "codemirror_mode": {
    "name": "ipython",
    "version": 3
   },
   "file_extension": ".py",
   "mimetype": "text/x-python",
   "name": "python",
   "nbconvert_exporter": "python",
   "pygments_lexer": "ipython3",
   "version": "3.9.6 (default, Aug  5 2022, 15:21:02) \n[Clang 14.0.0 (clang-1400.0.29.102)]"
  },
  "vscode": {
   "interpreter": {
    "hash": "31f2aee4e71d21fbe5cf8b01ff0e069b9275f58929596ceb00d14d90e3e16cd6"
   }
  }
 },
 "nbformat": 4,
 "nbformat_minor": 5
}
